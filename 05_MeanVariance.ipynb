{
 "cells": [
  {
   "cell_type": "markdown",
   "id": "b9fce835",
   "metadata": {},
   "source": [
    "# Mean and Variance"
   ]
  },
  {
   "cell_type": "code",
   "execution_count": 1,
   "id": "ba34587b",
   "metadata": {},
   "outputs": [],
   "source": [
    "import numpy as np\n",
    "import torch\n",
    "import matplotlib.pyplot as plt"
   ]
  },
  {
   "cell_type": "code",
   "execution_count": 2,
   "id": "845c646b",
   "metadata": {},
   "outputs": [],
   "source": [
    "L = [1, 2, 4, 6, 5, 4, 0]"
   ]
  },
  {
   "cell_type": "code",
   "execution_count": 6,
   "id": "50847dd9",
   "metadata": {},
   "outputs": [
    {
     "name": "stdout",
     "output_type": "stream",
     "text": [
      "3.142857142857143\n",
      "3.142857142857143\n"
     ]
    }
   ],
   "source": [
    "print(np.mean(L))\n",
    "print(np.sum(L) / len(L))"
   ]
  },
  {
   "cell_type": "code",
   "execution_count": 8,
   "id": "629aa27e",
   "metadata": {},
   "outputs": [
    {
     "data": {
      "text/plain": [
       "4.122448979591836"
      ]
     },
     "execution_count": 8,
     "metadata": {},
     "output_type": "execute_result"
    }
   ],
   "source": [
    "np.var(L)"
   ]
  },
  {
   "cell_type": "code",
   "execution_count": null,
   "id": "47131373",
   "metadata": {},
   "outputs": [],
   "source": []
  }
 ],
 "metadata": {
  "kernelspec": {
   "display_name": "Python 3 (ipykernel)",
   "language": "python",
   "name": "python3"
  },
  "language_info": {
   "codemirror_mode": {
    "name": "ipython",
    "version": 3
   },
   "file_extension": ".py",
   "mimetype": "text/x-python",
   "name": "python",
   "nbconvert_exporter": "python",
   "pygments_lexer": "ipython3",
   "version": "3.8.12"
  }
 },
 "nbformat": 4,
 "nbformat_minor": 5
}
