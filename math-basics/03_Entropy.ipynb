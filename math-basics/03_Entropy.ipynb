{
 "cells": [
  {
   "cell_type": "code",
   "execution_count": 16,
   "id": "c8ac955b",
   "metadata": {},
   "outputs": [],
   "source": [
    "import numpy as np"
   ]
  },
  {
   "cell_type": "code",
   "execution_count": 3,
   "id": "50f49144",
   "metadata": {},
   "outputs": [
    {
     "name": "stdout",
     "output_type": "stream",
     "text": [
      "in-correct entropy 0.34657359027997264\n"
     ]
    }
   ],
   "source": [
    "# incorrect entropy\n",
    "# probability of an event\n",
    "p = .25\n",
    "\n",
    "# Entropy (incorrect)\n",
    "H = - (p * np.log(p))\n",
    "\n",
    "\n",
    "print(f\"in-correct entropy {H}\")\n",
    "\n"
   ]
  },
  {
   "cell_type": "code",
   "execution_count": 8,
   "id": "8c94ba6d",
   "metadata": {},
   "outputs": [
    {
     "name": "stdout",
     "output_type": "stream",
     "text": [
      "Correct entropy 0.5623351446188083\n"
     ]
    }
   ],
   "source": [
    "# probablity of event not happening\n",
    "x = [0.25, 0.75]\n",
    "\n",
    "H = 0\n",
    "for p in x:\n",
    "    H += - p * np.log(p)\n",
    "\n",
    "print(f\"Correct entropy {H}\")"
   ]
  },
  {
   "cell_type": "code",
   "execution_count": 13,
   "id": "775591a8",
   "metadata": {},
   "outputs": [
    {
     "name": "stdout",
     "output_type": "stream",
     "text": [
      "Entropy for N=2  0.5623351446188083 same as before\n"
     ]
    }
   ],
   "source": [
    "# Let's assume probablity of picture being a cat or not a cat i.e. N=2 events\n",
    "\n",
    "\n",
    "p = 0.25\n",
    "# Binary cross entropy\n",
    "# one of the most important loss functions in deep learning!!!!\n",
    "H = - (p * np.log(p) + (1 - p)*np.log(1-p))\n",
    "\n",
    "print(f\"Entropy for N=2  {H} same as before\")"
   ]
  },
  {
   "cell_type": "code",
   "execution_count": 14,
   "id": "b369eb50",
   "metadata": {},
   "outputs": [
    {
     "name": "stdout",
     "output_type": "stream",
     "text": [
      "Cross entropy: 1.3862943611198906\n"
     ]
    }
   ],
   "source": [
    "# note: all probs must sum to 1!\n",
    "p = [   1, 0   ] # sum=1\n",
    "q = [ .25,.75 ] # sum=1\n",
    "\n",
    "H = 0\n",
    "for i in range(len(p)):\n",
    "  H -= p[i]*np.log(q[i])\n",
    "\n",
    "print('Cross entropy: ' + str(H))"
   ]
  },
  {
   "cell_type": "code",
   "execution_count": 15,
   "id": "ded12495",
   "metadata": {},
   "outputs": [],
   "source": [
    "# When in only two events\n",
    "# simplify\n",
    "\n",
    "H = -np.log(q[0])"
   ]
  },
  {
   "cell_type": "code",
   "execution_count": 17,
   "id": "75de5141",
   "metadata": {},
   "outputs": [],
   "source": [
    "p = [   1, 0   ] # sum=1\n",
    "q = [ .25,.75 ] # sum=1"
   ]
  },
  {
   "cell_type": "code",
   "execution_count": 21,
   "id": "5f1538d3",
   "metadata": {},
   "outputs": [
    {
     "data": {
      "text/plain": [
       "tensor(75.)"
      ]
     },
     "execution_count": 21,
     "metadata": {},
     "output_type": "execute_result"
    }
   ],
   "source": [
    "import torch\n",
    "import torch.nn.functional as F\n",
    "\n",
    "# note: inputs must be Tensors\n",
    "q_tensor = torch.Tensor(q)\n",
    "p_tensor = torch.Tensor(p)\n",
    "\n",
    "F.binary_cross_entropy(p_tensor, q_tensor)"
   ]
  },
  {
   "cell_type": "markdown",
   "id": "c6afaac9",
   "metadata": {},
   "source": [
    "# Why is the pytorch code output different? "
   ]
  },
  {
   "cell_type": "markdown",
   "id": "859844cc",
   "metadata": {},
   "source": [
    "First, PyTorch is sensitive to argument positioning\n",
    "\n",
    "That's because the `p_tensor` is the classification or labelling like is a cat or isn't a cat and `q_tensor` is the model predicted probablity that the predicted value is a cat or isn't a cat. \n",
    "\n",
    "So PyTorch takes the prediction first and then the value it's supposed to be"
   ]
  },
  {
   "cell_type": "code",
   "execution_count": 23,
   "id": "75cdbd48",
   "metadata": {},
   "outputs": [
    {
     "data": {
      "text/plain": [
       "tensor(1.3863)"
      ]
     },
     "execution_count": 23,
     "metadata": {},
     "output_type": "execute_result"
    }
   ],
   "source": [
    "# So correct solution will be \n",
    "F.binary_cross_entropy(q_tensor, p_tensor)"
   ]
  },
  {
   "cell_type": "code",
   "execution_count": null,
   "id": "5013a123",
   "metadata": {},
   "outputs": [],
   "source": []
  }
 ],
 "metadata": {
  "kernelspec": {
   "display_name": "Python 3 (ipykernel)",
   "language": "python",
   "name": "python3"
  },
  "language_info": {
   "codemirror_mode": {
    "name": "ipython",
    "version": 3
   },
   "file_extension": ".py",
   "mimetype": "text/x-python",
   "name": "python",
   "nbconvert_exporter": "python",
   "pygments_lexer": "ipython3",
   "version": "3.8.12"
  }
 },
 "nbformat": 4,
 "nbformat_minor": 5
}
