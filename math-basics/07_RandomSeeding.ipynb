{
 "cells": [
  {
   "cell_type": "markdown",
   "id": "b289dbea",
   "metadata": {},
   "source": [
    "# Seeding a Random process using Numpy and PyTorch"
   ]
  },
  {
   "cell_type": "code",
   "execution_count": 1,
   "id": "0a37c89b",
   "metadata": {},
   "outputs": [],
   "source": [
    "# Can reproduce model based on random seed"
   ]
  },
  {
   "cell_type": "code",
   "execution_count": 2,
   "id": "780292ea",
   "metadata": {},
   "outputs": [],
   "source": [
    "import numpy as np\n",
    "import torch"
   ]
  },
  {
   "cell_type": "code",
   "execution_count": 22,
   "id": "70587b41",
   "metadata": {},
   "outputs": [
    {
     "name": "stdout",
     "output_type": "stream",
     "text": [
      "[[ 0.27626589 -1.85462808  0.62390111  1.14531129  1.03719047]\n",
      " [ 1.88663893 -0.11169829 -0.36210134  0.14867505 -0.43778315]]\n",
      "[[ 2.171257    1.15231025 -1.81881234 -0.13804934  0.53983961]\n",
      " [-1.77528229  1.31487654 -0.47344805 -1.0922299  -0.25002744]]\n"
     ]
    }
   ],
   "source": [
    "np.random.seed(17)\n",
    "print(np.random.randn(2, 5))\n",
    "print(np.random.randn(2, 5))\n",
    "\n",
    "# [[ 0.27626589 -1.85462808  0.62390111  1.14531129  1.03719047]\n",
    "#  [ 1.88663893 -0.11169829 -0.36210134  0.14867505 -0.43778315]]\n",
    "# [[ 2.171257    1.15231025 -1.81881234 -0.13804934  0.53983961]\n",
    "#  [-1.77528229  1.31487654 -0.47344805 -1.0922299  -0.25002744]]\n"
   ]
  },
  {
   "cell_type": "markdown",
   "id": "d5ee43cd",
   "metadata": {},
   "source": [
    "## Another way to set the seed is through RandomState class"
   ]
  },
  {
   "cell_type": "code",
   "execution_count": 8,
   "id": "b5fc776d",
   "metadata": {},
   "outputs": [
    {
     "data": {
      "text/plain": [
       "array([[ 0.27626589, -1.85462808,  0.62390111,  1.14531129,  1.03719047],\n",
       "       [ 1.88663893, -0.11169829, -0.36210134,  0.14867505, -0.43778315]])"
      ]
     },
     "execution_count": 8,
     "metadata": {},
     "output_type": "execute_result"
    }
   ],
   "source": [
    "random_seed1 = np.random.RandomState(17)\n",
    "random_seed1.randn(2, 5)"
   ]
  },
  {
   "cell_type": "code",
   "execution_count": 9,
   "id": "e21e2c6c",
   "metadata": {},
   "outputs": [
    {
     "data": {
      "text/plain": [
       "array([[ 2.171257  ,  1.15231025, -1.81881234, -0.13804934,  0.53983961],\n",
       "       [-1.77528229,  1.31487654, -0.47344805, -1.0922299 , -0.25002744]])"
      ]
     },
     "execution_count": 9,
     "metadata": {},
     "output_type": "execute_result"
    }
   ],
   "source": [
    "random_seed1.randn(2, 5)"
   ]
  },
  {
   "cell_type": "code",
   "execution_count": 10,
   "id": "cf3b5cb0",
   "metadata": {},
   "outputs": [],
   "source": [
    "# But if you initialize all of the seeds in one cell. Subsequent invocations are always going to be the same"
   ]
  },
  {
   "cell_type": "code",
   "execution_count": 17,
   "id": "b3e682bd",
   "metadata": {},
   "outputs": [
    {
     "name": "stdout",
     "output_type": "stream",
     "text": [
      "[[ 0.27626589 -1.85462808  0.62390111  1.14531129  1.03719047]\n",
      " [ 1.88663893 -0.11169829 -0.36210134  0.14867505 -0.43778315]]\n",
      "[[ 2.171257    1.15231025 -1.81881234 -0.13804934  0.53983961]\n",
      " [-1.77528229  1.31487654 -0.47344805 -1.0922299  -0.25002744]]\n"
     ]
    }
   ],
   "source": [
    "random_seed1 = np.random.RandomState(17)\n",
    "print(random_seed1.randn(2, 5))\n",
    "print(random_seed1.randn(2, 5))\n",
    "\n",
    "# [[ 0.27626589 -1.85462808  0.62390111  1.14531129  1.03719047]\n",
    "#  [ 1.88663893 -0.11169829 -0.36210134  0.14867505 -0.43778315]]\n",
    "# [[ 2.171257    1.15231025 -1.81881234 -0.13804934  0.53983961]\n",
    "#  [-1.77528229  1.31487654 -0.47344805 -1.0922299  -0.25002744]]"
   ]
  },
  {
   "cell_type": "markdown",
   "id": "a88f82c6",
   "metadata": {},
   "source": [
    "## RANDOMSTATE IS BETTER"
   ]
  },
  {
   "cell_type": "code",
   "execution_count": 24,
   "id": "9ec39f72",
   "metadata": {},
   "outputs": [
    {
     "data": {
      "text/plain": [
       "tensor([-1.6809, -0.4839, -0.1557,  0.8893, -0.0290])"
      ]
     },
     "execution_count": 24,
     "metadata": {},
     "output_type": "execute_result"
    }
   ],
   "source": [
    "torch.randn(5)"
   ]
  },
  {
   "cell_type": "code",
   "execution_count": 31,
   "id": "114900dd",
   "metadata": {},
   "outputs": [
    {
     "name": "stdout",
     "output_type": "stream",
     "text": [
      "tensor([-1.4135,  0.2336,  0.0340,  0.3499, -0.0145])\n",
      "[ 0.97754176 -0.13858525  0.10385631  0.30059104  0.9682053 ]\n"
     ]
    }
   ],
   "source": [
    "torch.manual_seed(17)\n",
    "print(torch.randn(5))\n",
    "print(np.random.randn(5))\n",
    "\n",
    "# tensor([-1.4135,  0.2336,  0.0340,  0.3499, -0.0145])\n",
    "# [-0.9822943   1.03126909  0.49133378 -0.4466466  -0.80636008]"
   ]
  },
  {
   "cell_type": "markdown",
   "id": "63ef7b54",
   "metadata": {},
   "source": [
    "## TORCH SEED IS LOCALIZED TO PYTORCH"
   ]
  },
  {
   "cell_type": "code",
   "execution_count": null,
   "id": "d4b8c14f",
   "metadata": {},
   "outputs": [],
   "source": []
  }
 ],
 "metadata": {
  "kernelspec": {
   "display_name": "Python 3 (ipykernel)",
   "language": "python",
   "name": "python3"
  },
  "language_info": {
   "codemirror_mode": {
    "name": "ipython",
    "version": 3
   },
   "file_extension": ".py",
   "mimetype": "text/x-python",
   "name": "python",
   "nbconvert_exporter": "python",
   "pygments_lexer": "ipython3",
   "version": "3.8.12"
  }
 },
 "nbformat": 4,
 "nbformat_minor": 5
}
