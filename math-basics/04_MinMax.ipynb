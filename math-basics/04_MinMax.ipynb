{
 "cells": [
  {
   "cell_type": "code",
   "execution_count": 1,
   "id": "e3d1fa68",
   "metadata": {},
   "outputs": [],
   "source": [
    "import numpy as np\n",
    "import torch"
   ]
  },
  {
   "cell_type": "code",
   "execution_count": 2,
   "id": "d7b430a1",
   "metadata": {},
   "outputs": [],
   "source": [
    "v = np.array([ 1,40,2,-3 ])"
   ]
  },
  {
   "cell_type": "code",
   "execution_count": 3,
   "id": "2e68b05b",
   "metadata": {},
   "outputs": [
    {
     "name": "stdout",
     "output_type": "stream",
     "text": [
      "-3\n",
      "40\n"
     ]
    }
   ],
   "source": [
    "print(np.min(v))\n",
    "print(np.max(v))"
   ]
  },
  {
   "cell_type": "markdown",
   "id": "8e9120d7",
   "metadata": {},
   "source": [
    "# But what is the position of the max and min values"
   ]
  },
  {
   "cell_type": "code",
   "execution_count": 22,
   "id": "8fc87ed5",
   "metadata": {},
   "outputs": [
    {
     "name": "stdout",
     "output_type": "stream",
     "text": [
      "3\n",
      "1\n"
     ]
    }
   ],
   "source": [
    "print(np.argmin(v))\n",
    "print(np.argmax(v))"
   ]
  },
  {
   "cell_type": "markdown",
   "id": "73ac09dc",
   "metadata": {},
   "source": [
    "# now let's try matrices instead of vectors"
   ]
  },
  {
   "cell_type": "code",
   "execution_count": 23,
   "id": "eac50bc5",
   "metadata": {},
   "outputs": [],
   "source": [
    "M = np.array([ [0,1,10], [20,8,5] ])"
   ]
  },
  {
   "cell_type": "code",
   "execution_count": 24,
   "id": "575884ea",
   "metadata": {},
   "outputs": [
    {
     "data": {
      "text/plain": [
       "0"
      ]
     },
     "execution_count": 24,
     "metadata": {},
     "output_type": "execute_result"
    }
   ],
   "source": [
    "np.min(M)"
   ]
  },
  {
   "cell_type": "code",
   "execution_count": 25,
   "id": "4d442f18",
   "metadata": {},
   "outputs": [
    {
     "data": {
      "text/plain": [
       "20"
      ]
     },
     "execution_count": 25,
     "metadata": {},
     "output_type": "execute_result"
    }
   ],
   "source": [
    "np.max(M)"
   ]
  },
  {
   "cell_type": "code",
   "execution_count": 26,
   "id": "ac1e4adf",
   "metadata": {},
   "outputs": [
    {
     "data": {
      "text/plain": [
       "0"
      ]
     },
     "execution_count": 26,
     "metadata": {},
     "output_type": "execute_result"
    }
   ],
   "source": [
    "np.argmin(M)"
   ]
  },
  {
   "cell_type": "code",
   "execution_count": 27,
   "id": "8e5d7d58",
   "metadata": {},
   "outputs": [
    {
     "data": {
      "text/plain": [
       "3"
      ]
     },
     "execution_count": 27,
     "metadata": {},
     "output_type": "execute_result"
    }
   ],
   "source": [
    "np.argmax(M)"
   ]
  },
  {
   "cell_type": "markdown",
   "id": "da99ddff",
   "metadata": {},
   "source": [
    "## So it linearizes the entire thing in one dimension and gives us the index in that data structure"
   ]
  },
  {
   "cell_type": "markdown",
   "id": "04a49b8a",
   "metadata": {},
   "source": [
    "### But if we wanted a particular axis; Axis corresponds to dimension so axis=0 means column axis=1 means across rows"
   ]
  },
  {
   "cell_type": "code",
   "execution_count": 28,
   "id": "e0e3818e",
   "metadata": {},
   "outputs": [
    {
     "data": {
      "text/plain": [
       "array([0, 1, 5])"
      ]
     },
     "execution_count": 28,
     "metadata": {},
     "output_type": "execute_result"
    }
   ],
   "source": [
    "np.min(M, axis=0) # It'll give minimum in each column but you're going to move per row"
   ]
  },
  {
   "cell_type": "code",
   "execution_count": 29,
   "id": "f4e6d21e",
   "metadata": {},
   "outputs": [
    {
     "data": {
      "text/plain": [
       "array([0, 5])"
      ]
     },
     "execution_count": 29,
     "metadata": {},
     "output_type": "execute_result"
    }
   ],
   "source": [
    "np.min(M, axis=1) # so basically it'll give all minimums in each row but moving across columns"
   ]
  },
  {
   "cell_type": "markdown",
   "id": "32f44558",
   "metadata": {},
   "source": [
    "### Let's try argmin and argmax"
   ]
  },
  {
   "cell_type": "code",
   "execution_count": 30,
   "id": "d244c6f1",
   "metadata": {},
   "outputs": [
    {
     "data": {
      "text/plain": [
       "array([0, 0, 1])"
      ]
     },
     "execution_count": 30,
     "metadata": {},
     "output_type": "execute_result"
    }
   ],
   "source": [
    "np.argmin(M, axis=0)"
   ]
  },
  {
   "cell_type": "code",
   "execution_count": 31,
   "id": "881b782a",
   "metadata": {},
   "outputs": [
    {
     "data": {
      "text/plain": [
       "array([0, 2])"
      ]
     },
     "execution_count": 31,
     "metadata": {},
     "output_type": "execute_result"
    }
   ],
   "source": [
    "np.argmin(M, axis=1)"
   ]
  },
  {
   "cell_type": "code",
   "execution_count": 32,
   "id": "ec01481b",
   "metadata": {},
   "outputs": [],
   "source": [
    "# Let's try pytorch"
   ]
  },
  {
   "cell_type": "code",
   "execution_count": 35,
   "id": "07ff9c9e",
   "metadata": {},
   "outputs": [
    {
     "data": {
      "text/plain": [
       "tensor(2)"
      ]
     },
     "execution_count": 35,
     "metadata": {},
     "output_type": "execute_result"
    }
   ],
   "source": [
    "torch.argmin(torch.Tensor([1, 40, 2 -3]))"
   ]
  },
  {
   "cell_type": "code",
   "execution_count": 36,
   "id": "6a37393a",
   "metadata": {},
   "outputs": [
    {
     "data": {
      "text/plain": [
       "tensor(3)"
      ]
     },
     "execution_count": 36,
     "metadata": {},
     "output_type": "execute_result"
    }
   ],
   "source": [
    "torch.argmin(torch.Tensor([1, 40, 2, -3]))"
   ]
  },
  {
   "cell_type": "code",
   "execution_count": 44,
   "id": "aac56e05",
   "metadata": {},
   "outputs": [],
   "source": [
    "PM = torch.tensor([\n",
    "    [0, 1, 10], \n",
    "    [20, 8, 5]\n",
    "])"
   ]
  },
  {
   "cell_type": "code",
   "execution_count": 39,
   "id": "a4441bdc",
   "metadata": {},
   "outputs": [
    {
     "data": {
      "text/plain": [
       "tensor(0)"
      ]
     },
     "execution_count": 39,
     "metadata": {},
     "output_type": "execute_result"
    }
   ],
   "source": [
    "torch.min(PM)"
   ]
  },
  {
   "cell_type": "code",
   "execution_count": 46,
   "id": "bfa4ce41",
   "metadata": {},
   "outputs": [],
   "source": [
    "min2 = torch.min(PM, axis=0) # axis = 0 means go row by row but for every column\n"
   ]
  },
  {
   "cell_type": "markdown",
   "id": "25b3a8e9",
   "metadata": {},
   "source": [
    "### Moment you start giving it axis it'll start returning indices for the corresponding values"
   ]
  },
  {
   "cell_type": "code",
   "execution_count": 47,
   "id": "450ebbf9",
   "metadata": {},
   "outputs": [
    {
     "name": "stdout",
     "output_type": "stream",
     "text": [
      "torch.return_types.min(\n",
      "values=tensor([0, 1, 5]),\n",
      "indices=tensor([0, 0, 1]))\n"
     ]
    }
   ],
   "source": [
    "print(min2)"
   ]
  },
  {
   "cell_type": "code",
   "execution_count": 48,
   "id": "809e005a",
   "metadata": {},
   "outputs": [
    {
     "data": {
      "text/plain": [
       "torch.return_types.min"
      ]
     },
     "execution_count": 48,
     "metadata": {},
     "output_type": "execute_result"
    }
   ],
   "source": [
    "type(min2)"
   ]
  },
  {
   "cell_type": "code",
   "execution_count": 49,
   "id": "9e1e92bd",
   "metadata": {},
   "outputs": [
    {
     "data": {
      "text/plain": [
       "tensor([0, 1, 5])"
      ]
     },
     "execution_count": 49,
     "metadata": {},
     "output_type": "execute_result"
    }
   ],
   "source": [
    "min2.values"
   ]
  },
  {
   "cell_type": "code",
   "execution_count": 50,
   "id": "f24e5f1b",
   "metadata": {},
   "outputs": [
    {
     "data": {
      "text/plain": [
       "tensor([0, 0, 1])"
      ]
     },
     "execution_count": 50,
     "metadata": {},
     "output_type": "execute_result"
    }
   ],
   "source": [
    "min2.indices"
   ]
  },
  {
   "cell_type": "code",
   "execution_count": null,
   "id": "45161e49",
   "metadata": {},
   "outputs": [],
   "source": []
  }
 ],
 "metadata": {
  "kernelspec": {
   "display_name": "Python 3 (ipykernel)",
   "language": "python",
   "name": "python3"
  },
  "language_info": {
   "codemirror_mode": {
    "name": "ipython",
    "version": 3
   },
   "file_extension": ".py",
   "mimetype": "text/x-python",
   "name": "python",
   "nbconvert_exporter": "python",
   "pygments_lexer": "ipython3",
   "version": "3.8.12"
  }
 },
 "nbformat": 4,
 "nbformat_minor": 5
}
