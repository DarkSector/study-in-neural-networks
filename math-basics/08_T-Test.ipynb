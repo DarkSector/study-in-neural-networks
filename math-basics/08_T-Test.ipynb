{
 "cells": [
  {
   "cell_type": "markdown",
   "id": "19c93153",
   "metadata": {},
   "source": [
    "# Understand T Test using Scipy"
   ]
  },
  {
   "cell_type": "markdown",
   "id": "61211f6e",
   "metadata": {},
   "source": [
    "In the context of a t-test, which is used to compare the means of two groups, the null hypothesis (H0) states that there is no significant difference between the <b>means</b> of the two groups. The alternative hypothesis (Ha) is the opposite, suggesting that there is a significant difference between the means."
   ]
  },
  {
   "cell_type": "code",
   "execution_count": 2,
   "id": "6486421a",
   "metadata": {},
   "outputs": [],
   "source": [
    "# import libraries\n",
    "import numpy as np\n",
    "import matplotlib.pyplot as plt\n",
    "\n",
    "# NEW!\n",
    "import scipy.stats as stats"
   ]
  },
  {
   "cell_type": "code",
   "execution_count": 22,
   "id": "c5c3d50b",
   "metadata": {},
   "outputs": [
    {
     "data": {
      "image/png": "[encoded data removed]",
      "text/plain": [
       "<Figure size 432x288 with 1 Axes>"
      ]
     },
     "metadata": {
      "needs_background": "light"
     },
     "output_type": "display_data"
    }
   ],
   "source": [
    "n1 = 30\n",
    "n2 = 40\n",
    "mu1 = 1  # mean offset\n",
    "mu2 = 3  # mean offset\n",
    "\n",
    "# generate the data\n",
    "data1 = mu1 + np.random.randn(n1)\n",
    "data2 = mu2 + np.random.randn(n2)\n",
    "\n",
    "\n",
    "\n",
    "# plot them\n",
    "plt.plot(np.zeros(n1),data1,'ro',markerfacecolor='w',markersize=14)\n",
    "plt.plot(np.ones(n2), data2,'bs',markerfacecolor='w',markersize=14)\n",
    "plt.xlim([-1,2])\n",
    "plt.xticks([0,1],labels=['Group 1','Group 2'])\n",
    "plt.show()"
   ]
  },
  {
   "cell_type": "code",
   "execution_count": 23,
   "id": "00e88144",
   "metadata": {},
   "outputs": [],
   "source": [
    "# How do you find that the mean of group 2 is significantly different than mean of Group 1"
   ]
  },
  {
   "cell_type": "code",
   "execution_count": 24,
   "id": "4c8b4a2a",
   "metadata": {},
   "outputs": [
    {
     "name": "stdout",
     "output_type": "stream",
     "text": [
      "t value is -7.314134236426393\n",
      "p value is 3.8438769542137136e-10\n"
     ]
    }
   ],
   "source": [
    "\n",
    "# t-test via stats package\n",
    "\n",
    "# _ind = independent samples\n",
    "t,p = stats.ttest_ind(data1, data2)\n",
    "print(f\"t value is {t}\")\n",
    "print(f\"p value is {p}\")"
   ]
  },
  {
   "cell_type": "markdown",
   "id": "afe51e54",
   "metadata": {},
   "source": [
    "In a t test, like in most tests of significance, the significance threshold is traditionally set at p = 0.05. A p-value is basically the likelihood of finding a mean difference by chance if indeed there is no difference in the population.\n"
   ]
  },
  {
   "cell_type": "markdown",
   "id": "c3099785",
   "metadata": {},
   "source": [
    "If p-value ≤ α (the chosen significance level, often 0.05 or 0.01):\n",
    "\n",
    "You reject the null hypothesis (H0).\n",
    "There is enough evidence to suggest that there is a significant difference between the means of the two groups.\n",
    "If p-value > α:\n",
    "\n",
    "You fail to reject the null hypothesis (H0).\n",
    "There is not enough evidence to conclude that there is a significant difference between the means of the two groups."
   ]
  },
  {
   "cell_type": "markdown",
   "id": "a0292365",
   "metadata": {},
   "source": [
    "# Interpretation of results"
   ]
  },
  {
   "cell_type": "markdown",
   "id": "890c7c79",
   "metadata": {},
   "source": [
    "t-value: -7.314134236426393\n",
    "The t-value measures how much the sample means differ from each other relative to the variability within the groups. In this case, the t-value is negative, which suggests that the mean of the first group is significantly smaller than the mean of the second group.\n",
    "\n",
    "p-value: 3.8438769542137136e-10 (approximately 0.00000000000003843)\n",
    "The p-value is an extremely small number, much smaller than the typical significance level of 0.05. When p-values are very small, it indicates strong evidence against the null hypothesis.\n",
    "\n",
    "Interpretation:\n",
    "With a p-value of approximately 3.8438769542137136e-10, which is essentially zero, we can conclude that there is overwhelming evidence to reject the null hypothesis. The null hypothesis (H0) states that there is no significant difference between the means of the two groups. However, the very small p-value indicates that this assumption is highly unlikely to be true."
   ]
  },
  {
   "cell_type": "markdown",
   "id": "226f7bea",
   "metadata": {},
   "source": [
    "## Therefore, you can confidently state that there is a significant difference between the means of the two groups you have compared. Since the t-value is negative, it suggests that the mean of the first group is significantly smaller than the mean of the second group."
   ]
  },
  {
   "cell_type": "code",
   "execution_count": null,
   "id": "5b6a89dc",
   "metadata": {},
   "outputs": [],
   "source": []
  }
 ],
 "metadata": {
  "kernelspec": {
   "display_name": "Python 3 (ipykernel)",
   "language": "python",
   "name": "python3"
  },
  "language_info": {
   "codemirror_mode": {
    "name": "ipython",
    "version": 3
   },
   "file_extension": ".py",
   "mimetype": "text/x-python",
   "name": "python",
   "nbconvert_exporter": "python",
   "pygments_lexer": "ipython3",
   "version": "3.8.12"
  }
 },
 "nbformat": 4,
 "nbformat_minor": 5
}
