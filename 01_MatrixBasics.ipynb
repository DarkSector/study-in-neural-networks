{
 "cells": [
  {
   "cell_type": "code",
   "execution_count": 1,
   "id": "0955d9da",
   "metadata": {},
   "outputs": [],
   "source": [
    "import numpy as np\n",
    "import torch"
   ]
  },
  {
   "cell_type": "markdown",
   "id": "ab6d31e1",
   "metadata": {},
   "source": [
    "## Basic transpose etc."
   ]
  },
  {
   "cell_type": "markdown",
   "id": "3ff4e659",
   "metadata": {},
   "source": [
    "### Using Numpy"
   ]
  },
  {
   "cell_type": "code",
   "execution_count": 6,
   "id": "70d57342",
   "metadata": {},
   "outputs": [
    {
     "name": "stdout",
     "output_type": "stream",
     "text": [
      "[[1]\n",
      " [2]\n",
      " [3]\n",
      " [4]]\n"
     ]
    }
   ],
   "source": [
    "arr = np.array([[1, 2, 3, 4]])\n",
    "print(arr.T)"
   ]
  },
  {
   "cell_type": "markdown",
   "id": "e48a834a",
   "metadata": {},
   "source": [
    "### Using PyTorch"
   ]
  },
  {
   "cell_type": "code",
   "execution_count": 7,
   "id": "c3a6922e",
   "metadata": {},
   "outputs": [
    {
     "name": "stdout",
     "output_type": "stream",
     "text": [
      "tensor([[1],\n",
      "        [2],\n",
      "        [3],\n",
      "        [4]])\n"
     ]
    }
   ],
   "source": [
    "tens = torch.tensor([[1, 2, 3, 4]])\n",
    "print(tens.T)"
   ]
  },
  {
   "cell_type": "markdown",
   "id": "9c990292",
   "metadata": {},
   "source": [
    "## Dot product"
   ]
  },
  {
   "cell_type": "markdown",
   "id": "108c2f1b",
   "metadata": {},
   "source": [
    "### Using Numpy"
   ]
  },
  {
   "cell_type": "code",
   "execution_count": 10,
   "id": "5bdada43",
   "metadata": {
    "scrolled": true
   },
   "outputs": [
    {
     "name": "stdout",
     "output_type": "stream",
     "text": [
      "28\n"
     ]
    }
   ],
   "source": [
    "v = np.array([1, 2, 3, 4])\n",
    "w = np.array([4, 8, 0, 2])\n",
    "\n",
    "print(np.dot(v, w))"
   ]
  },
  {
   "cell_type": "code",
   "execution_count": 12,
   "id": "98399295",
   "metadata": {
    "scrolled": true
   },
   "outputs": [
    {
     "name": "stdout",
     "output_type": "stream",
     "text": [
      "28\n"
     ]
    }
   ],
   "source": [
    "print(np.sum(v * w))"
   ]
  },
  {
   "cell_type": "markdown",
   "id": "d0f68fd1",
   "metadata": {},
   "source": [
    "### Using PyTorch"
   ]
  },
  {
   "cell_type": "code",
   "execution_count": 13,
   "id": "fb19c73f",
   "metadata": {},
   "outputs": [
    {
     "name": "stdout",
     "output_type": "stream",
     "text": [
      "tensor(776)\n",
      "tensor(776)\n"
     ]
    }
   ],
   "source": [
    "t1 = torch.tensor([1, 4, 8, 22])\n",
    "t2 = torch.tensor([8, 29, 21, 22])\n",
    "\n",
    "print(torch.dot(t1, t2))\n",
    "print(torch.sum(t1 * t2))"
   ]
  },
  {
   "cell_type": "markdown",
   "id": "fa179d3a",
   "metadata": {},
   "source": [
    "## Matrix multiplication"
   ]
  },
  {
   "cell_type": "markdown",
   "id": "63cb64f6",
   "metadata": {},
   "source": [
    "### Numpy"
   ]
  },
  {
   "cell_type": "code",
   "execution_count": 19,
   "id": "1cc69342",
   "metadata": {},
   "outputs": [
    {
     "data": {
      "text/plain": [
       "array([[-0.59575448,  2.18803024,  0.73954035,  0.7589083 , -0.37843381,\n",
       "         0.63356196, -0.86885267],\n",
       "       [-1.67184557,  3.08467817,  1.68828045,  0.03884562, -0.80260636,\n",
       "         2.51736859, -2.22338072],\n",
       "       [-0.42916866,  3.13018839, -4.12652408, 12.2041686 ,  2.96158315,\n",
       "        -4.24468675,  1.57889748]])"
      ]
     },
     "execution_count": 19,
     "metadata": {},
     "output_type": "execute_result"
    }
   ],
   "source": [
    "A = np.random.randn(3, 5)\n",
    "B = np.random.randn(5, 7)\n",
    "C = np.random.randn(3, 5)\n",
    "\n",
    "\n",
    "A@B"
   ]
  },
  {
   "cell_type": "code",
   "execution_count": 17,
   "id": "ec15c7fb",
   "metadata": {},
   "outputs": [
    {
     "data": {
      "text/plain": [
       "array([[ 0.12393561,  3.34739576, -3.44410008, -0.05338881,  2.07444725,\n",
       "         3.26380189, -0.60179909],\n",
       "       [ 1.62806612, -0.47355965,  2.65546093,  0.8883373 , -1.53771339,\n",
       "        -4.14363558, -1.51388246],\n",
       "       [ 1.51833565, -3.34328002,  4.94034865, -1.87532111, -5.12561974,\n",
       "        -3.86849887,  0.80991903]])"
      ]
     },
     "execution_count": 17,
     "metadata": {},
     "output_type": "execute_result"
    }
   ],
   "source": [
    "np.matmul(A, B)"
   ]
  },
  {
   "cell_type": "code",
   "execution_count": 20,
   "id": "1d882880",
   "metadata": {},
   "outputs": [
    {
     "data": {
      "text/plain": [
       "array([[ 1.4157245 , -0.1276071 ,  1.77000499,  2.74336253, -3.88827036],\n",
       "       [ 0.26298928,  0.61402003,  0.56627091, -0.53612172, -0.90028038],\n",
       "       [ 0.36204312,  0.64966508,  1.25488505,  0.87657669, -3.13002444],\n",
       "       [-1.60857562,  1.7506655 ,  0.23319281, -1.86406993, -1.87263045],\n",
       "       [ 0.11629011,  0.43944601,  0.5732266 ,  0.10192609, -1.36864638]])"
      ]
     },
     "execution_count": 20,
     "metadata": {},
     "output_type": "execute_result"
    }
   ],
   "source": [
    "C.T@A # transpose of C multiplied with A"
   ]
  },
  {
   "cell_type": "markdown",
   "id": "1cda2631",
   "metadata": {},
   "source": [
    "### Use PyTorch"
   ]
  },
  {
   "cell_type": "code",
   "execution_count": 22,
   "id": "80b39cf9",
   "metadata": {},
   "outputs": [],
   "source": [
    "P1 = torch.randn(3, 4)\n",
    "P2 = torch.randn(4, 5)\n",
    "C1 = np.random.rand(4, 7) # is this dtype compatible with pytorch?\n",
    "C2 = torch.tensor(C1, dtype=torch.float)"
   ]
  },
  {
   "cell_type": "code",
   "execution_count": 25,
   "id": "9b878d4b",
   "metadata": {},
   "outputs": [
    {
     "data": {
      "text/plain": [
       "tensor([[-0.4956, -1.5338, -1.2105, -1.1085, -1.0477, -1.0672, -1.7143],\n",
       "        [-0.7367, -0.0933, -0.0828, -0.4978, -0.9621, -0.6894, -0.7147],\n",
       "        [-1.4697, -1.1612, -0.4494, -0.9258,  0.8166, -0.4804, -1.8723]],\n",
       "       dtype=torch.float64)"
      ]
     },
     "execution_count": 25,
     "metadata": {},
     "output_type": "execute_result"
    }
   ],
   "source": [
    "P1@C1 # wow this works natively but not always"
   ]
  },
  {
   "cell_type": "code",
   "execution_count": 26,
   "id": "d13fb880",
   "metadata": {},
   "outputs": [
    {
     "data": {
      "text/plain": [
       "tensor([[-0.4956, -1.5338, -1.2105, -1.1085, -1.0477, -1.0672, -1.7143],\n",
       "        [-0.7367, -0.0933, -0.0828, -0.4978, -0.9621, -0.6894, -0.7147],\n",
       "        [-1.4697, -1.1612, -0.4494, -0.9258,  0.8166, -0.4804, -1.8723]])"
      ]
     },
     "execution_count": 26,
     "metadata": {},
     "output_type": "execute_result"
    }
   ],
   "source": [
    "P1@C2"
   ]
  },
  {
   "cell_type": "code",
   "execution_count": null,
   "id": "42e3d6a4",
   "metadata": {},
   "outputs": [],
   "source": []
  }
 ],
 "metadata": {
  "kernelspec": {
   "display_name": "Python 3 (ipykernel)",
   "language": "python",
   "name": "python3"
  },
  "language_info": {
   "codemirror_mode": {
    "name": "ipython",
    "version": 3
   },
   "file_extension": ".py",
   "mimetype": "text/x-python",
   "name": "python",
   "nbconvert_exporter": "python",
   "pygments_lexer": "ipython3",
   "version": "3.8.12"
  }
 },
 "nbformat": 4,
 "nbformat_minor": 5
}
